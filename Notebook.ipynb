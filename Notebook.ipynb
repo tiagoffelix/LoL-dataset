{
 "cells": [
  {
   "cell_type": "code",
   "execution_count": null,
   "id": "5cf1d4b2",
   "metadata": {},
   "outputs": [],
   "source": [
    "guardar cada grafico e experiencias para depois por na tese"
   ]
  }
 ],
 "metadata": {
  "language_info": {
   "name": "python"
  }
 },
 "nbformat": 4,
 "nbformat_minor": 5
}
