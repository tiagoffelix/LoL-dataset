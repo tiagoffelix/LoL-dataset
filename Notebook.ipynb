{
 "cells": [
  {
   "cell_type": "markdown",
   "id": "10b1582d",
   "metadata": {},
   "source": [
    "# League of Legends Data Analysis - Research Notebook\n",
    "\n",
    "This notebook collects experiments, figures, code snippets, and notes to track evolution of the project for the thesis.\n",
    "\n",
    "- Project: Data analysis of League of Legends matches\n",
    "- Author: Speazyy\n",
    "- Goal: Build analyses (KDA, gold, damage, items, win rates, movement heatmaps) and document iterations.\n",
    "\n",
    "---\n",
    "\n",
    "## Index\n",
    "- Setup\n",
    "- Data sources and artifacts\n",
    "- Experiments\n",
    "  - E1: Analyze single match (KDA, Gold, Damage, Items)\n",
    "  - E2: Item names via Data Dragon\n",
    "  - E3: Player movement heatmaps with names\n",
    "  - E4: Player win/loss by side (blue/red)\n",
    "  - E5: Champion and player winrates (multi-match)\n",
    "- Findings and next steps\n"
   ]
  },
  {
   "cell_type": "code",
   "execution_count": null,
   "id": "f6ac20b3",
   "metadata": {},
   "outputs": [],
   "source": [
    "# Setup: common imports and helpers\n",
    "import os, json, time\n",
    "import pandas as pd\n",
    "import matplotlib.pyplot as plt\n",
    "import seaborn as sns\n",
    "from dotenv import load_dotenv\n",
    "\n",
    "load_dotenv()\n",
    "\n",
    "# Utility: pretty print JSON subset\n",
    "def jprint(obj, maxlen=800):\n",
    "    s = json.dumps(obj, indent=2)[:maxlen]\n",
    "    print(s + (\"...\" if len(s) == maxlen else \"\"))"
   ]
  },
  {
   "cell_type": "markdown",
   "id": "ade496ee",
   "metadata": {},
   "source": [
    "## Data sources and artifacts\n",
    "\n",
    "- Matches info JSON: `arutnevjr_ajr_matches_info.json`\n",
    "- Timeline & map: `fetch_api_timeline.py`, `lol_map.png`\n",
    "- Player movement extraction: `extract_positions.py`\n",
    "- Match analysis: `analyze_match.py`\n",
    "- Win/loss by side: `fetch_player_winloss_side.py`, `plot_player_winloss_side.py`\n",
    "- Helpers: `helper.py`, `lookup.py`, `summoner_list.py`"
   ]
  },
  {
   "cell_type": "markdown",
   "id": "e7e651e7",
   "metadata": {},
   "source": [
    "### E1: Single match analysis (KDA, Gold, Damage, Items)\n",
    "Goal: Reproduce and iterate on the analyses from `analyze_match.py` (KDA, average gold per team, average damage taken, most used items)."
   ]
  },
  {
   "cell_type": "code",
   "execution_count": null,
   "id": "53fcce30",
   "metadata": {},
   "outputs": [],
   "source": [
    "# Load match info and build DataFrame like analyze_match.py\n",
    "with open(\"arutnevjr_ajr_matches_info.json\", \"r\") as f:\n",
    "    matches_info = json.load(f)\n",
    "match = matches_info[0]\n",
    "\n",
    "item_cols = [f\"item{i}\" for i in range(7)]\n",
    "item_data = {col: [match[\"items\"][i][j] if j < len(match[\"items\"][i]) else 0 for i in range(len(match[\"items\"]))] for j, col in enumerate(item_cols)}\n",
    "\n",
    "df = pd.DataFrame({\n",
    "    \"champion\": match[\"picks\"],\n",
    "    \"position\": match[\"position\"],\n",
    "    \"team\": match[\"teams\"],\n",
    "    \"kills\": match[\"kills\"],\n",
    "    \"deaths\": match[\"deaths\"],\n",
    "    \"assists\": match[\"assists\"],\n",
    "    \"gold\": match[\"gold\"],\n",
    "    \"win\": match[\"win\"],\n",
    "    **item_data\n",
    "})\n",
    "\n",
    "# KDA\n",
    "df[\"KDA\"] = (df[\"kills\"] + df[\"assists\"]) / df[\"deaths\"].replace(0, 1)\n",
    "plt.figure(figsize=(8, 4))\n",
    "ax = sns.barplot(x=\"champion\", y=\"KDA\", hue=\"team\", data=df)\n",
    "plt.title(\"KDA dos jogadores\")\n",
    "plt.ylabel(\"KDA\")\n",
    "plt.xlabel(\"Champion\")\n",
    "plt.legend()\n",
    "for p in ax.patches:\n",
    "    h = p.get_height()\n",
    "    if pd.notna(h):\n",
    "        ax.annotate(f\"{h:.2f}\", (p.get_x() + p.get_width()/2., h), ha='center', va='bottom', fontsize=9, color='black', xytext=(0,3), textcoords='offset points')\n",
    "plt.tight_layout()\n",
    "plt.show()\n",
    "\n",
    "# Average gold per team\n",
    "avg_gold = df.groupby(\"team\")[\"gold\"].mean()\n",
    "plt.figure(figsize=(6, 4))\n",
    "ax = avg_gold.plot(kind=\"bar\", color=[\"blue\", \"red\"])\n",
    "plt.title(\"Average Gold per Team\")\n",
    "plt.ylabel(\"Average Gold\")\n",
    "plt.xlabel(\"Team\")\n",
    "for i, v in enumerate(avg_gold):\n",
    "    ax.annotate(f\"{v:.0f}\", (i, v), ha='center', va='bottom', fontsize=9, color='black', xytext=(0,3), textcoords='offset points')\n",
    "plt.tight_layout()\n",
    "plt.show()\n",
    "\n",
    "# Average damage taken per team (if available)\n",
    "if \"damageTaken\" in match:\n",
    "    df[\"damageTaken\"] = match[\"damageTaken\"]\n",
    "    avg_damage_taken = df.groupby(\"team\")[\"damageTaken\"].mean()\n",
    "    plt.figure(figsize=(6, 4))\n",
    "    ax = avg_damage_taken.plot(kind=\"bar\", color=[\"blue\", \"red\"])\n",
    "    plt.title(\"Average Damage Taken per Team\")\n",
    "    plt.ylabel(\"Average Damage Taken\")\n",
    "    plt.xlabel(\"Team\")\n",
    "    for i, v in enumerate(avg_damage_taken):\n",
    "        ax.annotate(f\"{v:.0f}\", (i, v), ha='center', va='bottom', fontsize=9, color='black', xytext=(0,3), textcoords='offset points')\n",
    "    plt.tight_layout()\n",
    "    plt.show()\n",
    "\n",
    "# Most used items\n",
    "items = []\n",
    "for col in item_cols:\n",
    "    items.extend(df[col].tolist())\n",
    "items = [item for item in items if item != 0]\n",
    "most_used_items = pd.Series(items).value_counts().head(5)\n",
    "plt.figure(figsize=(8, 4))\n",
    "ax = most_used_items.plot(kind=\"bar\")\n",
    "plt.title(\"Most Used Items in the Game (item0-item6)\")\n",
    "plt.ylabel(\"Count\")\n",
    "plt.xlabel(\"Item ID\")\n",
    "for i, v in enumerate(most_used_items):\n",
    "    ax.annotate(f\"{v}\", (i, v), ha='center', va='bottom', fontsize=9, color='black', xytext=(0,3), textcoords='offset points')\n",
    "plt.tight_layout()\n",
    "plt.show()"
   ]
  },
  {
   "cell_type": "markdown",
   "id": "92f89bb9",
   "metadata": {},
   "source": [
    "### E2: Item name mapping via Data Dragon\n",
    "Goal: Map item IDs to human-readable names using Riot Data Dragon item dataset."
   ]
  },
  {
   "cell_type": "code",
   "execution_count": null,
   "id": "ccc3e489",
   "metadata": {},
   "outputs": [],
   "source": [
    "# Data Dragon item mapping\n",
    "# Download items file (manually once) or via requests if needed.\n",
    "# Example local path: data_dragon/items.json\n",
    "try:\n",
    "    with open(\"items.json\", \"r\", encoding=\"utf-8\") as f:\n",
    "        items_dd = json.load(f)\n",
    "    id_to_name = {int(k): v.get(\"name\", str(k)) for k, v in items_dd.get(\"data\", {}).items()}\n",
    "    # Example: map first 5 most used item IDs from E1 if available\n",
    "    try:\n",
    "        print(\"Sample item names:\")\n",
    "        for k in list(id_to_name.keys())[:5]:\n",
    "            print(k, id_to_name[k])\n",
    "    except Exception as e:\n",
    "        print(\"Preview error:\", e)\n",
    "except FileNotFoundError:\n",
    "    print(\"items.json not found. Place Data Dragon items JSON in the project root as items.json.\")"
   ]
  },
  {
   "cell_type": "markdown",
   "id": "ef2c556a",
   "metadata": {},
   "source": [
    "### E3: Movement heatmaps with player names\n",
    "Goal: Ensure heatmap captions and titles include correct player names (participantId/puuid mapping from match info). Add snapshots and notes here when generated."
   ]
  },
  {
   "cell_type": "markdown",
   "id": "f0e24dac",
   "metadata": {},
   "source": [
    "### E4: Win/Loss by side (Blue/Red)\n",
    "Goal: Fetch last N matches, compute wins/losses by side, visualize as a pie chart. The JSON now stores summoner and results."
   ]
  },
  {
   "cell_type": "code",
   "execution_count": null,
   "id": "359c445d",
   "metadata": {},
   "outputs": [],
   "source": [
    "# Win/Loss by side pie chart\n",
    "with open(\"player_winloss_side.json\", \"r\") as f:\n",
    "    json_data = json.load(f)\n",
    "\n",
    "SUMMONER_NAME = json_data.get(\"summoner_name\", \"?\")\n",
    "TAGLINE = json_data.get(\"tagline\", \"?\")\n",
    "results = json_data.get(\"results\", [])\n",
    "\n",
    "counts = {\"Blue Win\": 0, \"Blue Loss\": 0, \"Red Win\": 0, \"Red Loss\": 0}\n",
    "for entry in results:\n",
    "    if entry[\"side\"] == \"blue\":\n",
    "        counts[\"Blue Win\" if entry[\"win\"] else \"Blue Loss\"] += 1\n",
    "    else:\n",
    "        counts[\"Red Win\" if entry[\"win\"] else \"Red Loss\"] += 1\n",
    "\n",
    "labels = [f\"{k} ({v})\" for k, v in counts.items()]\n",
    "sizes = list(counts.values())\n",
    "colors = [\"#4A90E2\", \"#B0C4DE\", \"#E94B3C\", \"#F7CAC9\"]\n",
    "\n",
    "total_wins = counts[\"Blue Win\"] + counts[\"Red Win\"]\n",
    "total_losses = counts[\"Blue Loss\"] + counts[\"Red Loss\"]\n",
    "TOTAL = total_wins + total_losses\n",
    "winrate = (total_wins / TOTAL * 100) if TOTAL else 0\n",
    "\n",
    "plt.figure(figsize=(7,7))\n",
    "plt.pie(sizes, labels=labels, autopct='%1.1f%%', colors=colors, startangle=90, counterclock=False)\n",
    "plt.title(f\"{SUMMONER_NAME}#{TAGLINE} — Total: {TOTAL} | Wins: {total_wins} | Losses: {total_losses} | Winrate: {winrate:.1f}%\")\n",
    "plt.axis('equal')\n",
    "plt.show()"
   ]
  },
  {
   "cell_type": "markdown",
   "id": "1d6efb77",
   "metadata": {},
   "source": [
    "### E5: Player and champion winrates (multi-match)\n",
    "Notes: Aggregate across matches per player/champion; compute winrates; visualize with bar charts. To be implemented with batched data."
   ]
  },
  {
   "cell_type": "markdown",
   "id": "3c813cbe",
   "metadata": {},
   "source": [
    "## Findings and next steps\n",
    "- Document key learnings per experiment here.\n",
    "- Track bugs, rate limit issues (429), data corrections, and mapping fixes.\n",
    "- Outline improvements and follow-up actions for the thesis chapters."
   ]
  }
 ],
 "metadata": {
  "language_info": {
   "name": "python"
  }
 },
 "nbformat": 4,
 "nbformat_minor": 5
}
